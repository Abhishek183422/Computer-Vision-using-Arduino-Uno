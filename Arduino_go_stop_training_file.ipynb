{
 "cells": [
  {
   "cell_type": "code",
   "execution_count": 1,
   "id": "d451cefd",
   "metadata": {},
   "outputs": [],
   "source": [
    "import cv2\n",
    "import tensorflow as tf\n",
    "from tensorflow.keras.models import Sequential,load_model,Model\n",
    "from tensorflow.keras.layers import Dense,Conv2D,Dropout,MaxPooling2D,GlobalMaxPooling2D,Activation\n",
    "from tensorflow.keras.preprocessing.image import ImageDataGenerator\n",
    "from tensorflow.keras.optimizers import Adam\n",
    "from tensorflow.keras.callbacks import EarlyStopping\n",
    "import os \n",
    "import numpy as np\n",
    "import time\n",
    "from PIL import Image"
   ]
  },
  {
   "cell_type": "code",
   "execution_count": 2,
   "id": "b0707534",
   "metadata": {},
   "outputs": [],
   "source": [
    "dir_pat='/Users/draculalemon/Downloads/go_stop'"
   ]
  },
  {
   "cell_type": "code",
   "execution_count": 3,
   "id": "791408e3",
   "metadata": {},
   "outputs": [
    {
     "name": "stdout",
     "output_type": "stream",
     "text": [
      "11\n",
      "11\n"
     ]
    }
   ],
   "source": [
    "img_class=[]\n",
    "for class_name in os.listdir(dir_pat):\n",
    "    class_path=os.path.join(dir_pat,class_name)\n",
    "    if os.path.isdir(class_path):\n",
    "        no_of_img=len(os.listdir(class_path))\n",
    "        img_class.append((class_name))\n",
    "        print(no_of_img)        "
   ]
  },
  {
   "cell_type": "code",
   "execution_count": 4,
   "id": "c15d3ebe",
   "metadata": {},
   "outputs": [],
   "source": [
    "#now we will spit the data into batches and also use some images generator for better predictio\n",
    "batch_size=7\n",
    "IMG_height=200\n",
    "IMG_WEIGHT=200\n",
    "split=0.2\n",
    "\n",
    "datagen_train=tf.keras.preprocessing.image.ImageDataGenerator(rescale=1./255,\n",
    "                                                             validation_split=split,\n",
    "                                                             rotation_range=20,\n",
    "                                                             width_shift_range=0.1,\n",
    "                                                             height_shift_range=0.1,\n",
    "                                                             shear_range=0.4,zoom_range=0.3,\n",
    "                                                             horizontal_flip=True,\n",
    "                                                             vertical_flip=True,\n",
    "                                                             fill_mode='reflect')\n",
    "\n",
    "datagen_val=tf.keras.preprocessing.image.ImageDataGenerator(rescale=1./255,\n",
    "                                                            validation_split=split)"
   ]
  },
  {
   "cell_type": "code",
   "execution_count": 5,
   "id": "cba44f6d",
   "metadata": {},
   "outputs": [
    {
     "name": "stdout",
     "output_type": "stream",
     "text": [
      "Found 16 images belonging to 2 classes.\n",
      "Found 3 images belonging to 2 classes.\n"
     ]
    }
   ],
   "source": [
    "#passing the image generator to the file or applying it\n",
    "train_datagen=datagen_train.flow_from_directory(batch_size=10,directory=dir_pat,\n",
    "                                               shuffle=True,\n",
    "                                               subset='training',\n",
    "                                               interpolation='bicubic',\n",
    "                                               target_size=(IMG_height,IMG_WEIGHT))\n",
    "\n",
    "validate_datagen=datagen_val.flow_from_directory(batch_size=batch_size,\n",
    "                                                directory=dir_pat,\n",
    "                                                shuffle=True,\n",
    "                                                subset='validation',\n",
    "                                                interpolation='bicubic',\n",
    "                                                target_size=(IMG_height,IMG_WEIGHT))"
   ]
  },
  {
   "cell_type": "code",
   "execution_count": 6,
   "id": "40127e88",
   "metadata": {},
   "outputs": [],
   "source": [
    "# reseting the index after split\n",
    "validate_datagen.reset()\n",
    "train_datagen.reset()"
   ]
  },
  {
   "cell_type": "code",
   "execution_count": 7,
   "id": "9d9adb9f",
   "metadata": {},
   "outputs": [
    {
     "name": "stdout",
     "output_type": "stream",
     "text": [
      "Metal device set to: Apple M1\n"
     ]
    },
    {
     "name": "stderr",
     "output_type": "stream",
     "text": [
      "2022-07-17 11:46:12.422267: I tensorflow/core/common_runtime/pluggable_device/pluggable_device_factory.cc:305] Could not identify NUMA node of platform GPU ID 0, defaulting to 0. Your kernel may not have been built with NUMA support.\n",
      "2022-07-17 11:46:12.422511: I tensorflow/core/common_runtime/pluggable_device/pluggable_device_factory.cc:271] Created TensorFlow device (/job:localhost/replica:0/task:0/device:GPU:0 with 0 MB memory) -> physical PluggableDevice (device: 0, name: METAL, pci bus id: <undefined>)\n"
     ]
    }
   ],
   "source": [
    "\n",
    "model=Sequential([\n",
    "    Conv2D(16,3,padding='same',activation='relu',input_shape=(IMG_height,IMG_WEIGHT,3)),\n",
    "    MaxPooling2D(),\n",
    "    \n",
    "    Conv2D(32,3,padding='same',activation='relu'),\n",
    "    MaxPooling2D(),\n",
    "    \n",
    "    Conv2D(64,3,padding='same',activation='relu'),\n",
    "    MaxPooling2D(),\n",
    "    \n",
    "    Conv2D(128,3,padding='same',activation='relu'),\n",
    "    MaxPooling2D(),\n",
    "    \n",
    "    GlobalMaxPooling2D(),\n",
    "    Dense(1000,activation='relu'),\n",
    "    Dense(len(img_class),activation='softmax')\n",
    "        \n",
    "])"
   ]
  },
  {
   "cell_type": "code",
   "execution_count": 8,
   "id": "c2cb9357",
   "metadata": {},
   "outputs": [],
   "source": [
    "#using early stoping for preventing overfiting\n",
    "early_stopping_callback=EarlyStopping(monitor='val_loss',patience=6,mode='min',\n",
    "                                      restore_best_weights=True)"
   ]
  },
  {
   "cell_type": "code",
   "execution_count": 9,
   "id": "08d34e20",
   "metadata": {},
   "outputs": [],
   "source": [
    "model.compile(optimizer=Adam(learning_rate=0.001),loss='categorical_crossentropy',\n",
    "             metrics=['accuracy'])"
   ]
  },
  {
   "cell_type": "code",
   "execution_count": 10,
   "id": "8c7f2f4e",
   "metadata": {},
   "outputs": [
    {
     "name": "stdout",
     "output_type": "stream",
     "text": [
      "Epoch 1/8\n"
     ]
    },
    {
     "name": "stderr",
     "output_type": "stream",
     "text": [
      "2022-07-17 11:46:12.832152: W tensorflow/core/platform/profile_utils/cpu_utils.cc:128] Failed to get CPU frequency: 0 Hz\n",
      "2022-07-17 11:46:13.216723: I tensorflow/core/grappler/optimizers/custom_graph_optimizer_registry.cc:113] Plugin optimizer for device_type GPU is enabled.\n"
     ]
    },
    {
     "name": "stdout",
     "output_type": "stream",
     "text": [
      "2/2 [==============================] - ETA: 0s - loss: 0.7422 - accuracy: 0.3750WARNING:tensorflow:Early stopping conditioned on metric `val_loss` which is not available. Available metrics are: loss,accuracy\n",
      "2/2 [==============================] - 1s 192ms/step - loss: 0.7422 - accuracy: 0.3750\n",
      "Epoch 2/8\n",
      "2/2 [==============================] - ETA: 0s - loss: 0.6348 - accuracy: 0.7500WARNING:tensorflow:Early stopping conditioned on metric `val_loss` which is not available. Available metrics are: loss,accuracy\n",
      "2/2 [==============================] - 0s 310ms/step - loss: 0.6348 - accuracy: 0.7500\n",
      "Epoch 3/8\n",
      "2/2 [==============================] - ETA: 0s - loss: 0.5957 - accuracy: 0.8750WARNING:tensorflow:Early stopping conditioned on metric `val_loss` which is not available. Available metrics are: loss,accuracy\n",
      "2/2 [==============================] - 0s 112ms/step - loss: 0.5957 - accuracy: 0.8750\n",
      "Epoch 4/8\n",
      "2/2 [==============================] - ETA: 0s - loss: 0.4717 - accuracy: 0.9375WARNING:tensorflow:Early stopping conditioned on metric `val_loss` which is not available. Available metrics are: loss,accuracy\n",
      "2/2 [==============================] - 0s 335ms/step - loss: 0.4717 - accuracy: 0.9375\n",
      "Epoch 5/8\n",
      "2/2 [==============================] - ETA: 0s - loss: 0.3482 - accuracy: 0.9375WARNING:tensorflow:Early stopping conditioned on metric `val_loss` which is not available. Available metrics are: loss,accuracy\n",
      "2/2 [==============================] - 0s 166ms/step - loss: 0.3482 - accuracy: 0.9375\n",
      "Epoch 6/8\n",
      "2/2 [==============================] - ETA: 0s - loss: 0.2191 - accuracy: 1.0000WARNING:tensorflow:Early stopping conditioned on metric `val_loss` which is not available. Available metrics are: loss,accuracy\n",
      "2/2 [==============================] - 0s 223ms/step - loss: 0.2191 - accuracy: 1.0000\n",
      "Epoch 7/8\n",
      "2/2 [==============================] - ETA: 0s - loss: 0.1742 - accuracy: 0.9375WARNING:tensorflow:Early stopping conditioned on metric `val_loss` which is not available. Available metrics are: loss,accuracy\n",
      "2/2 [==============================] - 0s 235ms/step - loss: 0.1742 - accuracy: 0.9375\n",
      "Epoch 8/8\n",
      "2/2 [==============================] - ETA: 0s - loss: 0.1327 - accuracy: 0.9375WARNING:tensorflow:Early stopping conditioned on metric `val_loss` which is not available. Available metrics are: loss,accuracy\n",
      "2/2 [==============================] - 1s 285ms/step - loss: 0.1327 - accuracy: 0.9375\n",
      "Training time: 4.8251330852508545s\n"
     ]
    }
   ],
   "source": [
    "start = time.time()\n",
    "epoches=8\n",
    "train_model=model.fit(train_datagen,steps_per_epoch=(train_datagen.samples)//batch_size,\n",
    "                  epochs=epoches,validation_data=validate_datagen,\n",
    "                  validation_steps=(validate_datagen.samples)//batch_size,\n",
    "                  callbacks=[early_stopping_callback])\n",
    "stop = time.time()\n",
    "print(f\"Training time: {stop - start}s\")"
   ]
  },
  {
   "cell_type": "code",
   "execution_count": 15,
   "id": "8a46d74f",
   "metadata": {},
   "outputs": [],
   "source": [
    "#saving the model\n",
    "model.save('arduino_sign.h5')"
   ]
  },
  {
   "cell_type": "code",
   "execution_count": null,
   "id": "28949f66",
   "metadata": {},
   "outputs": [],
   "source": []
  }
 ],
 "metadata": {
  "kernelspec": {
   "display_name": "Python 3 (ipykernel)",
   "language": "python",
   "name": "python3"
  },
  "language_info": {
   "codemirror_mode": {
    "name": "ipython",
    "version": 3
   },
   "file_extension": ".py",
   "mimetype": "text/x-python",
   "name": "python",
   "nbconvert_exporter": "python",
   "pygments_lexer": "ipython3",
   "version": "3.8.13"
  }
 },
 "nbformat": 4,
 "nbformat_minor": 5
}
